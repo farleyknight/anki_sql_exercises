{
 "cells": [
  {
   "cell_type": "markdown",
   "id": "e542eab0",
   "metadata": {},
   "source": [
    "# Find users total hours streamed\n",
    "\n",
    "Source: https://stackoverflow.com/questions/62905418/find-users-total-hours-streamed\n",
    "\n",
    "This table is a \"heartbeat\" tracking event where one row is generated each minute for each streamer while that streamer is live. If a streamer is live for 60 minutes, 60 rows would be generated in this table."
   ]
  },
  {
   "cell_type": "code",
   "execution_count": null,
   "id": "69573a7f",
   "metadata": {},
   "outputs": [],
   "source": [
    "%run Question.ipynb"
   ]
  },
  {
   "cell_type": "markdown",
   "id": "b2fc0f1c",
   "metadata": {},
   "source": [
    "## Part A\n",
    "\n",
    "Write a query that returns total monthly hours streamed for each month, in order by month."
   ]
  },
  {
   "cell_type": "markdown",
   "id": "faeeeaa8",
   "metadata": {},
   "source": [
    "## The expected output\n",
    "\n",
    "|year|month|hours|\n",
    "|--- |--- |--- |\n",
    "|2020|3|0.10000|\n",
    "|2020|4|0.11667|\n",
    "|2020|6|0.01667|\n"
   ]
  },
  {
   "cell_type": "markdown",
   "id": "40e4cd65",
   "metadata": {},
   "source": [
    "# Type your SQL below"
   ]
  },
  {
   "cell_type": "code",
   "execution_count": 4,
   "id": "89d39bba",
   "metadata": {},
   "outputs": [],
   "source": [
    "# %%sql\n",
    "#\n",
    "# Type your query here"
   ]
  }
 ],
 "metadata": {
  "kernelspec": {
   "display_name": "Python 3 (ipykernel)",
   "language": "python",
   "name": "python3"
  },
  "language_info": {
   "codemirror_mode": {
    "name": "ipython",
    "version": 3
   },
   "file_extension": ".py",
   "mimetype": "text/x-python",
   "name": "python",
   "nbconvert_exporter": "python",
   "pygments_lexer": "ipython3",
   "version": "3.10.0"
  }
 },
 "nbformat": 4,
 "nbformat_minor": 5
}
