{
 "cells": [
  {
   "cell_type": "markdown",
   "id": "d27cbb9c",
   "metadata": {},
   "source": [
    "# Rolling sum salary\n",
    "\n",
    "Source: https://towardsdatascience.com/twenty-five-sql-practice-exercises-5fc791e24082\n",
    "\n",
    "The following table shows the monthly salary for an employee for the first nine months in a given year. From this, write a query to return a table that displays, for each month in the first half of the year, the rolling sum of the employee’s salary for that month and the following two months, ordered chronologically."
   ]
  },
  {
   "cell_type": "code",
   "execution_count": null,
   "id": "8de77c04",
   "metadata": {},
   "outputs": [],
   "source": [
    "%run Question.ipynb"
   ]
  },
  {
   "cell_type": "markdown",
   "id": "c592df10",
   "metadata": {},
   "source": [
    "# Part A\n",
    "\n",
    "Write a query to identify, for each month, the range of 3 months that come after it, including the salary for each month."
   ]
  },
  {
   "cell_type": "markdown",
   "id": "3aeba66b",
   "metadata": {},
   "source": [
    "## The expected output\n",
    "\n",
    "|month|month_1|salary|\n",
    "|--- |--- |--- |\n",
    "|1|1|\\$2,000.00|\n",
    "|1|2|\\$3,000.00|\n",
    "|1|3|\\$5,000.00|\n",
    "|2|2|\\$3,000.00|\n",
    "|2|3|\\$5,000.00|\n",
    "|2|4|\\$4,000.00|\n",
    "|3|3|\\$5,000.00|\n",
    "|3|4|\\$4,000.00|\n",
    "|3|5|\\$2,000.00|\n",
    "|4|4|\\$4,000.00|\n",
    "|4|5|\\$2,000.00|\n",
    "|4|6|\\$1,000.00|\n",
    "|5|5|\\$2,000.00|\n",
    "|5|6|\\$1,000.00|\n",
    "|5|7|\\$2,000.00|\n",
    "|6|6|\\$1,000.00|\n",
    "|6|7|\\$2,000.00|\n",
    "|6|8|\\$4,000.00|\n",
    "|7|7|\\$2,000.00|\n",
    "|7|8|\\$4,000.00|\n",
    "|7|9|\\$5,000.00|\n",
    "|8|8|\\$4,000.00|\n",
    "|8|9|\\$5,000.00|\n",
    "|9|9|\\$5,000.00|\n"
   ]
  },
  {
   "cell_type": "markdown",
   "id": "212fa5c1",
   "metadata": {},
   "source": [
    "# Type your SQL below"
   ]
  },
  {
   "cell_type": "code",
   "execution_count": null,
   "id": "aeed299a",
   "metadata": {},
   "outputs": [],
   "source": [
    "# %%sql\n",
    "#\n",
    "# Type your query here"
   ]
  }
 ],
 "metadata": {
  "kernelspec": {
   "display_name": "Python 3 (ipykernel)",
   "language": "python",
   "name": "python3"
  },
  "language_info": {
   "codemirror_mode": {
    "name": "ipython",
    "version": 3
   },
   "file_extension": ".py",
   "mimetype": "text/x-python",
   "name": "python",
   "nbconvert_exporter": "python",
   "pygments_lexer": "ipython3",
   "version": "3.10.0"
  }
 },
 "nbformat": 4,
 "nbformat_minor": 5
}
