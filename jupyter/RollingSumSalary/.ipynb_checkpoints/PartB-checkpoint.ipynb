{
 "cells": [
  {
   "cell_type": "markdown",
   "id": "f9f745b9",
   "metadata": {},
   "source": [
    "# Rolling sum salary\n",
    "\n",
    "Source: https://towardsdatascience.com/twenty-five-sql-practice-exercises-5fc791e24082\n",
    "\n",
    "The following table shows the monthly salary for an employee for the first nine months in a given year. From this, write a query to return a table that displays, for each month in the first half of the year, the rolling sum of the employee’s salary for that month and the following two months, ordered chronologically."
   ]
  },
  {
   "cell_type": "code",
   "execution_count": null,
   "id": "8e77d01c",
   "metadata": {},
   "outputs": [],
   "source": [
    "%run Question.ipynb"
   ]
  },
  {
   "cell_type": "markdown",
   "id": "ce51f65c",
   "metadata": {},
   "source": [
    "# Part B\n",
    "\n",
    "Modify the query from Part A to limit the months to just the first half of the year.\n",
    "\n",
    "```sql\n",
    "SELECT s1.month, s2.month, s2.salary\n",
    "FROM salaries s1\n",
    "JOIN salaries s2\n",
    "ON s1.month <= s2.month\n",
    "AND s1.month > s2.month - 3;\n",
    "```"
   ]
  },
  {
   "cell_type": "markdown",
   "id": "76702606",
   "metadata": {},
   "source": [
    "## The expected output\n",
    "\n",
    "|month|month_1|salary|\n",
    "|--- |--- |--- |\n",
    "|1|1|\\$2,000.00|\n",
    "|1|2|\\$3,000.00|\n",
    "|2|2|\\$3,000.00|\n",
    "|1|3|\\$5,000.00|\n",
    "|2|3|\\$5,000.00|\n",
    "|3|3|\\$5,000.00|\n",
    "|2|4|\\$4,000.00|\n",
    "|3|4|\\$4,000.00|\n",
    "|4|4|\\$4,000.00|\n",
    "|3|5|\\$2,000.00|\n",
    "|4|5|\\$2,000.00|\n",
    "|5|5|\\$2,000.00|\n",
    "|4|6|\\$1,000.00|\n",
    "|5|6|\\$1,000.00|\n",
    "|6|6|\\$1,000.00|\n",
    "|5|7|\\$2,000.00|\n",
    "|6|7|\\$2,000.00|\n",
    "|6|8|\\$4,000.00|\n"
   ]
  },
  {
   "cell_type": "markdown",
   "id": "32c0afeb",
   "metadata": {},
   "source": [
    "# Type your SQL below"
   ]
  },
  {
   "cell_type": "code",
   "execution_count": null,
   "id": "e01779fc",
   "metadata": {},
   "outputs": [],
   "source": [
    "# %%sql\n",
    "#\n",
    "# Type your query below"
   ]
  }
 ],
 "metadata": {
  "kernelspec": {
   "display_name": "Python 3 (ipykernel)",
   "language": "python",
   "name": "python3"
  },
  "language_info": {
   "codemirror_mode": {
    "name": "ipython",
    "version": 3
   },
   "file_extension": ".py",
   "mimetype": "text/x-python",
   "name": "python",
   "nbconvert_exporter": "python",
   "pygments_lexer": "ipython3",
   "version": "3.10.0"
  }
 },
 "nbformat": 4,
 "nbformat_minor": 5
}
