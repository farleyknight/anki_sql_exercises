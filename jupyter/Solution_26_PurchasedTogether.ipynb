{
 "cells": [
  {
   "cell_type": "markdown",
   "id": "4afdcf01",
   "metadata": {},
   "source": [
    "# Commonly purchased together\n",
    "\n",
    "* Source: https://towardsdatascience.com/twenty-five-sql-practice-exercises-5fc791e24082\n",
    "* Source: https://www.careercup.com/question?id=5759072822362112\n",
    "        \n",
    "Using the following two tables, write a query to return the names and purchase frequency of the top three pairs of products most often bought together. The names of both products should appear in one column."
   ]
  },
  {
   "cell_type": "code",
   "execution_count": null,
   "id": "337c61b5",
   "metadata": {},
   "outputs": [],
   "source": [
    "%run Question_26_PurchasedTogether.ipynb"
   ]
  }
 ],
 "metadata": {
  "kernelspec": {
   "display_name": "Python 3 (ipykernel)",
   "language": "python",
   "name": "python3"
  },
  "language_info": {
   "codemirror_mode": {
    "name": "ipython",
    "version": 3
   },
   "file_extension": ".py",
   "mimetype": "text/x-python",
   "name": "python",
   "nbconvert_exporter": "python",
   "pygments_lexer": "ipython3",
   "version": "3.10.0"
  }
 },
 "nbformat": 4,
 "nbformat_minor": 5
}
