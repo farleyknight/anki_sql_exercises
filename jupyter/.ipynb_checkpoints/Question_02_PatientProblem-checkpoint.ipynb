{
 "cells": [
  {
   "cell_type": "markdown",
   "id": "33764145",
   "metadata": {},
   "source": [
    "# The Patient Puzzle\n",
    "\n",
    "Source: https://msbiskills.com/2015/03/23/473/\n",
    "\n",
    "In this puzzle we have to group data based on Patients admission date and discharge date. If any Patients discharge date + 1 = admission date then we have group both rows into one row and sum costs from both the rows. Please check out the sample input and expected output for details."
   ]
  },
  {
   "cell_type": "code",
   "execution_count": 1,
   "id": "10f463c6",
   "metadata": {},
   "outputs": [
    {
     "ename": "SyntaxError",
     "evalue": "invalid syntax (3265463398.py, line 4)",
     "output_type": "error",
     "traceback": [
      "\u001b[0;36m  File \u001b[0;32m\"/var/folders/ls/xp00hpz93pz_gy175c3rd4jrg7pr02/T/ipykernel_79625/3265463398.py\"\u001b[0;36m, line \u001b[0;32m4\u001b[0m\n\u001b[0;31m    <style>\u001b[0m\n\u001b[0m    ^\u001b[0m\n\u001b[0;31mSyntaxError\u001b[0m\u001b[0;31m:\u001b[0m invalid syntax\n"
     ]
    }
   ],
   "source": [
    "%load_ext sql\n",
    "%sql postgresql://fknight:@localhost/postgres"
   ]
  },
  {
   "cell_type": "code",
   "execution_count": null,
   "id": "0d996d98",
   "metadata": {},
   "outputs": [],
   "source": [
    "%%html\n",
    "<style>\n",
    "table {float:left}\n",
    "</style>"
   ]
  },
  {
   "cell_type": "markdown",
   "id": "4c819a91",
   "metadata": {},
   "source": [
    "## The `patients` table"
   ]
  },
  {
   "cell_type": "code",
   "execution_count": null,
   "id": "4ab60a73",
   "metadata": {},
   "outputs": [],
   "source": [
    "%%sql\n",
    "DROP TABLE IF EXISTS patients;\n",
    "CREATE TABLE patients (\n",
    "    PatientID INT,\n",
    "    AdmissionDate DATE,\n",
    "    DischargeDate DATE,\n",
    "    Cost MONEY\n",
    ");\n",
    "\n",
    "-- Insert Data\n",
    "INSERT INTO patients\n",
    "VALUES\n",
    "    (1009,'2014-07-27','2014-07-31',1050.00),\n",
    "    (1009,'2014-08-01','2014-08-23',1070.00),\n",
    "    (1009,'2014-08-31','2014-08-31',1900.00),\n",
    "    (1009,'2014-09-01','2014-09-14',1260.00),\n",
    "    (1009,'2014-12-01','2014-12-31',2090.00),\n",
    "    (1024,'2014-06-07','2014-06-28',1900.00),\n",
    "    (1024,'2014-06-29','2014-07-31',2900.00),\n",
    "    (1024,'2014-08-01','2014-08-02',1800.00);\n",
    "\n",
    "-- Verify Data\n",
    "SELECT PatientID, AdmissionDate, DischargeDate, Cost\n",
    "  FROM patients;"
   ]
  },
  {
   "cell_type": "markdown",
   "id": "9a8a58ae",
   "metadata": {},
   "source": [
    "## The expected output:\n",
    "\n",
    "|PatientId|AdminssionDate|DischargeDate|Cost|\n",
    "|--- |--- |--- |--- |\n",
    "|1009|27-07-2014|23-08-2014|2120|\n",
    "|1009|31-08-2014|14-09-2014|3160|\n",
    "|1009|01-12-2014|31-12-2014|2090|\n",
    "|1024|07-06-2014|02-08-2014|6600|"
   ]
  },
  {
   "cell_type": "markdown",
   "id": "399b856a",
   "metadata": {},
   "source": [
    "# Type your SQL below"
   ]
  },
  {
   "cell_type": "code",
   "execution_count": 2,
   "id": "ff33deb1",
   "metadata": {},
   "outputs": [],
   "source": [
    "# %%sql"
   ]
  }
 ],
 "metadata": {
  "kernelspec": {
   "display_name": "Python 3 (ipykernel)",
   "language": "python",
   "name": "python3"
  },
  "language_info": {
   "codemirror_mode": {
    "name": "ipython",
    "version": 3
   },
   "file_extension": ".py",
   "mimetype": "text/x-python",
   "name": "python",
   "nbconvert_exporter": "python",
   "pygments_lexer": "ipython3",
   "version": "3.10.0"
  }
 },
 "nbformat": 4,
 "nbformat_minor": 5
}
