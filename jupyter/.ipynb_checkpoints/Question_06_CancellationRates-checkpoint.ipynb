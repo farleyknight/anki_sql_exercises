{
 "cells": [
  {
   "cell_type": "markdown",
   "id": "0b83c295",
   "metadata": {},
   "source": [
    "# Cancellation Rates\n",
    "\n",
    "Source: https://towardsdatascience.com/twenty-five-sql-practice-exercises-5fc791e24082\n",
    "        \n",
    "From the following table of user IDs, actions, and dates, write a query to return the publication and cancellation rate for each user."
   ]
  },
  {
   "cell_type": "code",
   "execution_count": null,
   "id": "4bb59e05",
   "metadata": {},
   "outputs": [],
   "source": [
    "%load_ext sql\n",
    "%sql postgresql://fknight:@localhost/postgres"
   ]
  },
  {
   "cell_type": "code",
   "execution_count": null,
   "id": "9a5c3a8a",
   "metadata": {},
   "outputs": [],
   "source": [
    "%%html\n",
    "<style>\n",
    "table {float:left}\n",
    "</style>"
   ]
  },
  {
   "cell_type": "markdown",
   "id": "15d8f717",
   "metadata": {},
   "source": [
    "## The `users` table"
   ]
  },
  {
   "cell_type": "code",
   "execution_count": null,
   "id": "4c6dfe4b",
   "metadata": {},
   "outputs": [],
   "source": [
    "\n",
    "\n",
    "WITH users (user_id, action, date) \n",
    "AS (VALUES \n",
    "(1,'start', CAST('01-01-20' AS date)), \n",
    "(1,'cancel', CAST('01-02-20' AS date)), \n",
    "(2,'start', CAST('01-03-20' AS date)), \n",
    "(2,'publish', CAST('01-04-20' AS date)), \n",
    "(3,'start', CAST('01-05-20' AS date)), \n",
    "(3,'cancel', CAST('01-06-20' AS date)), \n",
    "(1,'start', CAST('01-07-20' AS date)), \n",
    "(1,'publish', CAST('01-08-20' AS date))),"
   ]
  }
 ],
 "metadata": {
  "kernelspec": {
   "display_name": "Python 3 (ipykernel)",
   "language": "python",
   "name": "python3"
  },
  "language_info": {
   "codemirror_mode": {
    "name": "ipython",
    "version": 3
   },
   "file_extension": ".py",
   "mimetype": "text/x-python",
   "name": "python",
   "nbconvert_exporter": "python",
   "pygments_lexer": "ipython3",
   "version": "3.10.0"
  }
 },
 "nbformat": 4,
 "nbformat_minor": 5
}
