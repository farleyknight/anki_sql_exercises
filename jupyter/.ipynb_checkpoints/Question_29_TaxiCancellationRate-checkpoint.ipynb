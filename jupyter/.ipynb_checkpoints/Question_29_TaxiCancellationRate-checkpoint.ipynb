{
 "cells": [
  {
   "cell_type": "markdown",
   "id": "ad8acc83",
   "metadata": {},
   "source": [
    "# Taxi cancellation rate\n",
    "\n",
    "Source: https://towardsdatascience.com/twenty-five-sql-practice-exercises-5fc791e24082\n",
    "Source: https://leetcode.com/problems/trips-and-users/description/\n",
    "\n",
    "From the given trips and users tables for a taxi service, write a query to return the cancellation rate in the first two days in October, rounded to two decimal places, for trips not involving banned riders or drivers."
   ]
  },
  {
   "cell_type": "code",
   "execution_count": 1,
   "id": "561eb9db",
   "metadata": {},
   "outputs": [],
   "source": [
    "%load_ext sql\n",
    "%sql postgresql://fknight:@localhost/postgres"
   ]
  },
  {
   "cell_type": "code",
   "execution_count": 2,
   "id": "95735308",
   "metadata": {},
   "outputs": [
    {
     "data": {
      "text/html": [
       "<style>\n",
       "table {float:left}\n",
       "</style>\n"
      ],
      "text/plain": [
       "<IPython.core.display.HTML object>"
      ]
     },
     "metadata": {},
     "output_type": "display_data"
    }
   ],
   "source": [
    "%%html\n",
    "<style>\n",
    "table {float:left}\n",
    "</style>"
   ]
  },
  {
   "cell_type": "markdown",
   "id": "f1183cda",
   "metadata": {},
   "source": [
    "## The `trips` table"
   ]
  },
  {
   "cell_type": "code",
   "execution_count": null,
   "id": "8aea8e87",
   "metadata": {},
   "outputs": [],
   "source": [
    "%%sql\n",
    "\n",
    "DROP TABLE IF EXISTS trips;\n",
    "CREATE TABLE trips (\n",
    "    trip_id INT,\n",
    "    rider_id INT,\n",
    "    driver_id INT,\n",
    "    status VARCHAR(100),\n",
    "    request_date DATE\n",
    ");\n",
    "\n",
    "INSERT INTO trips\n",
    "VALUES\n",
    "    (1, 1, 10, 'completed',           '2020-10-01'),\n",
    "    (2, 2, 11, 'cancelled_by_driver', '2020-10-01'),\n",
    "    (3, 3, 12, 'completed',           '2020-10-01'), \n",
    "    (4, 4, 10, 'cancelled_by_rider',  '2020-10-02'), \n",
    "    (5, 1, 11, 'completed',           '2020-10-02'), \n",
    "    (6, 2, 12, 'completed',           '2020-10-02'), \n",
    "    (7, 3, 11, 'completed',           '2020-10-03');\n",
    "\n",
    "SELECT * FROM trips;"
   ]
  },
  {
   "cell_type": "markdown",
   "id": "3ffd267d",
   "metadata": {},
   "source": [
    "## The `users` table"
   ]
  },
  {
   "cell_type": "code",
   "execution_count": null,
   "id": "691e7149",
   "metadata": {},
   "outputs": [],
   "source": [
    "%%sql\n",
    "\n",
    "DROP TABLE IF EXISTS users;\n",
    "CREATE TABLE users (\n",
    "    user_id INT,\n",
    "    banned VARCHAR(3),\n",
    "    type VARCHAR(6)\n",
    ");\n",
    "\n",
    "INSERT INTO users\n",
    "VALUES\n",
    "    (1, 'no', 'rider'),\n",
    "    (2, 'yes', 'rider'),\n",
    "    (3, 'no', 'rider'), \n",
    "    (4, 'no', 'rider'), \n",
    "    (10, 'no', 'driver'), \n",
    "    (11, 'no', 'driver'), \n",
    "    (12, 'no', 'driver');"
   ]
  },
  {
   "cell_type": "markdown",
   "id": "18cf61a6",
   "metadata": {},
   "source": [
    "## The expected output\n",
    "\n",
    "| request_date | cancel_rate |\n",
    "|------------- |------------ |\n",
    "| 2020-10-01   | 0.50        |\n",
    "| 2020-10-02   | 0.33        |"
   ]
  },
  {
   "cell_type": "markdown",
   "id": "2578962f",
   "metadata": {},
   "source": [
    "# Type your SQL below"
   ]
  },
  {
   "cell_type": "code",
   "execution_count": null,
   "id": "455f2173",
   "metadata": {},
   "outputs": [],
   "source": [
    "# %%sql\n",
    "#\n",
    "# Type your query here"
   ]
  }
 ],
 "metadata": {
  "kernelspec": {
   "display_name": "Python 3 (ipykernel)",
   "language": "python",
   "name": "python3"
  },
  "language_info": {
   "codemirror_mode": {
    "name": "ipython",
    "version": 3
   },
   "file_extension": ".py",
   "mimetype": "text/x-python",
   "name": "python",
   "nbconvert_exporter": "python",
   "pygments_lexer": "ipython3",
   "version": "3.10.0"
  }
 },
 "nbformat": 4,
 "nbformat_minor": 5
}
