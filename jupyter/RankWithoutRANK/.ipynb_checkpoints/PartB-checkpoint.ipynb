{
 "cells": [
  {
   "cell_type": "markdown",
   "id": "ae8a83cd",
   "metadata": {},
   "source": [
    "# Rank without RANK\n",
    "\n",
    "* Source: https://towardsdatascience.com/twenty-five-sql-practice-exercises-5fc791e24082\n",
    "* Source: https://leetcode.com/problems/rank-scores/\n",
    "\n",
    "Write a query to rank scores in the following table without using a window function. If there is a tie between two scores, both should have the same rank. After a tie, the following rank should be the next consecutive integer value."
   ]
  },
  {
   "cell_type": "code",
   "execution_count": null,
   "id": "78e25b1f",
   "metadata": {},
   "outputs": [],
   "source": [
    "%run Question.ipynb"
   ]
  },
  {
   "cell_type": "markdown",
   "id": "382296c3",
   "metadata": {},
   "source": [
    "# Part B\n",
    "\n",
    "Modify the query from Part A to do a self-join on the number of scores that come before the current score. It should have the same number of rows returned as in Part A.\n",
    "\n",
    "```sql\n",
    "SELECT\n",
    "    s1.id,\n",
    "    s1.score\n",
    "FROM scores s1\n",
    "ORDER BY s1.score DESC;\n",
    "```"
   ]
  },
  {
   "cell_type": "markdown",
   "id": "e60247f1",
   "metadata": {},
   "source": [
    "## The expected output\n",
    "\n",
    "|id|score|\n",
    "|--- |--- |\n",
    "|3|4.00|\n",
    "|5|4.00|\n",
    "|4|3.85|\n",
    "|6|3.65|\n",
    "|2|3.65|\n",
    "|1|3.50|\n"
   ]
  },
  {
   "cell_type": "markdown",
   "id": "8afc65c5",
   "metadata": {},
   "source": [
    "# Type your SQL below"
   ]
  },
  {
   "cell_type": "code",
   "execution_count": 4,
   "id": "1c5e13e3",
   "metadata": {},
   "outputs": [],
   "source": [
    "# %% sql\n",
    "#\n",
    "# Type your query here"
   ]
  }
 ],
 "metadata": {
  "kernelspec": {
   "display_name": "Python 3 (ipykernel)",
   "language": "python",
   "name": "python3"
  },
  "language_info": {
   "codemirror_mode": {
    "name": "ipython",
    "version": 3
   },
   "file_extension": ".py",
   "mimetype": "text/x-python",
   "name": "python",
   "nbconvert_exporter": "python",
   "pygments_lexer": "ipython3",
   "version": "3.10.0"
  }
 },
 "nbformat": 4,
 "nbformat_minor": 5
}
